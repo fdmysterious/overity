{
 "cells": [
  {
   "cell_type": "markdown",
   "metadata": {
    "tags": [
     "VERITY-Metadata"
    ]
   },
   "source": [
    "# LSTM init (notebook)\n",
    "\n",
    "**Created**: 2025-03-22\n",
    "\n",
    "- Author 1 (author1@mail.com): Contribution\n",
    "- Author 2 (author2@mail.com): Contribution\n",
    "\n",
    "This is optional method description"
   ]
  },
  {
   "cell_type": "markdown",
   "metadata": {},
   "source": [
    "## API init"
   ]
  },
  {
   "cell_type": "code",
   "execution_count": 2,
   "metadata": {},
   "outputs": [
    {
     "name": "stderr",
     "output_type": "stream",
     "text": [
      "INFO:backend.flow:Initialize API for method /home/poticha/workspace/verity/verity-py/verity_python/snippets/storage/ingredients/training_optimization/lstm_init_nb.ipynb\n",
      "INFO:backend.flow:Programme directory: /home/poticha/workspace/verity/verity-py/verity_python/snippets/storage\n",
      "INFO:backend.flow:Method identification: lstm_init_nb (training_optimization)\n"
     ]
    },
    {
     "name": "stdout",
     "output_type": "stream",
     "text": [
      "CALLER_FPATH=/home/poticha/workspace/verity/verity-py/verity_python/snippets/storage/ingredients/training_optimization/lstm_init_nb.ipynb\n"
     ]
    }
   ],
   "source": [
    "from verity import api as vapi\n",
    "vapi.init()"
   ]
  },
  {
   "cell_type": "markdown",
   "metadata": {},
   "source": [
    "## Arguments"
   ]
  },
  {
   "cell_type": "code",
   "execution_count": 3,
   "metadata": {},
   "outputs": [
    {
     "name": "stderr",
     "output_type": "stream",
     "text": [
      "INFO:backend.flow:Parse arguments\n"
     ]
    }
   ],
   "source": [
    "with vapi.describe_arguments() as vargs:\n",
    "    vargs.add_argument(\"input_model\", help=\"Input model to use\")"
   ]
  },
  {
   "cell_type": "markdown",
   "metadata": {},
   "source": [
    "## Method code"
   ]
  },
  {
   "cell_type": "code",
   "execution_count": 4,
   "metadata": {},
   "outputs": [
    {
     "name": "stderr",
     "output_type": "stream",
     "text": [
      "INFO:test:Input model: test_model\n"
     ]
    }
   ],
   "source": [
    "import logging\n",
    "log = logging.getLogger(\"test\")\n",
    "\n",
    "input_model = vapi.argument(\"input_model\")\n",
    "\n",
    "log.info(f\"Input model: {input_model}\")"
   ]
  }
 ],
 "metadata": {
  "kernelspec": {
   "display_name": "verity",
   "language": "python",
   "name": "python3"
  },
  "language_info": {
   "codemirror_mode": {
    "name": "ipython",
    "version": 3
   },
   "file_extension": ".py",
   "mimetype": "text/x-python",
   "name": "python",
   "nbconvert_exporter": "python",
   "pygments_lexer": "ipython3",
   "version": "3.13.2"
  }
 },
 "nbformat": 4,
 "nbformat_minor": 2
}
